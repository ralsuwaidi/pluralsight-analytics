{
 "cells": [
  {
   "cell_type": "code",
   "execution_count": 49,
   "metadata": {},
   "outputs": [
    {
     "name": "stdout",
     "output_type": "stream",
     "text": [
      "there are 490 skills and 7 domains\n",
      "the domains are: Development, Cloud, IT Ops, Creative, Security, Data, Business\n",
      "If we pick one domain (data): there are 90 skills in Data\n",
      "some of these are:\n",
      "  Query and Modify Data in Couchbase using N1QL\n",
      "  Deep Learning Literacy\n",
      "  Databricks Machine Learning\n",
      "  Building Machine Learning Solutions with Tensorflow 2.0\n",
      "  Microsoft Power BI for Analysts\n",
      "  Building Machine Learning Solutions with Scikit-Learn\n",
      "  Interpreting Data with R\n",
      "  Python Data Essentials\n",
      "  Apache Spark on Databricks\n",
      "  Stream Processing with Apache Beam and Google Cloud Platform Dataflow\n",
      "...\n",
      "data contains many sub skills\n",
      "there are 13 data skills that are in python\n",
      "there are 8 data skills that are in sql\n"
     ]
    }
   ],
   "source": [
    "import requests\n",
    "from dotenv import load_dotenv\n",
    "import os\n",
    "\n",
    "from pprint import pprint\n",
    "\n",
    "load_dotenv('../.env')\n",
    "url = \"https://paas-api.pluralsight.com/graphql\"\n",
    "headers = {\n",
    "    \"Authorization\": f\"Bearer {os.getenv('PLURAL_TOKEN')}\"\n",
    "}\n",
    "\n",
    "body = \"\"\"\n",
    "query {\n",
    "  skillAssessmentCatalog(first: 800) {\n",
    "    nodes {\n",
    "      name\n",
    "      domain\n",
    "    }\n",
    "  }\n",
    "}\n",
    "\"\"\"\n",
    "\n",
    "response = requests.post(url=url,headers=headers, json={\"query\": body})\n",
    "data = response.json()['data']['skillAssessmentCatalog']['nodes']\n",
    "domains = [node['domain'] for node in data]\n",
    "domains = list(dict.fromkeys(domains))\n",
    "data_domains = [domain_data for domain_data in data if domain_data['domain'] == 'Data']\n",
    "data_domains_python = [data_domain for data_domain in data_domains if 'python' in data_domain['name'].lower()]\n",
    "data_domains_sql = [data_domain for data_domain in data_domains if 'sql' in data_domain['name'].lower()]\n",
    "\n",
    "\n",
    "print(f'there are {len(data)} skills and {len(domains)} domains')\n",
    "print(f'the domains are: {domains[0]}, {domains[1]}, {domains[2]}, {domains[3]}, {domains[4]}, {domains[5]}, {domains[6]}')\n",
    "print(f'If we pick one domain (data): there are {len(data_domains)} skills in Data')\n",
    "print(f'some of these are:')\n",
    "for i in data_domains[80:]:\n",
    "    print(' ', i['name'])\n",
    "print('...')\n",
    "print(f'data contains many sub skills')\n",
    "print(f'there are {len(data_domains_python)} data skills that are in python')\n",
    "print(f'there are {len(data_domains_sql)} data skills that are in sql')\n"
   ]
  },
  {
   "attachments": {},
   "cell_type": "markdown",
   "metadata": {},
   "source": [
    "![alternatvie text](../images/replace.jpg)\n"
   ]
  },
  {
   "cell_type": "markdown",
   "metadata": {},
   "source": []
  }
 ],
 "metadata": {
  "kernelspec": {
   "display_name": "venv",
   "language": "python",
   "name": "python3"
  },
  "language_info": {
   "codemirror_mode": {
    "name": "ipython",
    "version": 3
   },
   "file_extension": ".py",
   "mimetype": "text/x-python",
   "name": "python",
   "nbconvert_exporter": "python",
   "pygments_lexer": "ipython3",
   "version": "3.8.9"
  },
  "orig_nbformat": 4,
  "vscode": {
   "interpreter": {
    "hash": "cb430d4518ead99df8357846a7cb1335c3a9200bac5a34bbeb367fe6961cca5d"
   }
  }
 },
 "nbformat": 4,
 "nbformat_minor": 2
}
