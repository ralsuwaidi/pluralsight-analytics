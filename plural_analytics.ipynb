{
 "cells": [
  {
   "cell_type": "code",
   "execution_count": null,
   "metadata": {},
   "outputs": [],
   "source": [
    "from api.plural import PluralSight\n",
    "import pandas as pd\n",
    "import json"
   ]
  },
  {
   "cell_type": "code",
   "execution_count": null,
   "metadata": {},
   "outputs": [],
   "source": [
    "\n",
    "\n",
    "# load the JSON data\n",
    "with open('data2.json') as f:\n",
    "    data = json.load(f)\n",
    "\n",
    "# filter the data for model type \"users.user\"\n",
    "user_data = [d for d in data if d['model'] == 'users.user']\n",
    "\n",
    "# filter the data for model type \"portfolio.portfolio\"\n",
    "portfolio_data = [d for d in data if d['model'] == 'portfolio.portfolio']\n",
    "\n",
    "# convert the filtered JSON data to a data frame\n",
    "codershq_users_df = pd.json_normalize(user_data)\n",
    "codershq_portfolio_df = pd.json_normalize(portfolio_data)\n",
    "\n",
    "# remove the \"fields.\" prefix from column names\n",
    "codershq_users_df.columns = codershq_users_df.columns.str.replace('fields\\.', '', regex=True)\n",
    "codershq_portfolio_df.columns = codershq_portfolio_df.columns.str.replace('fields\\.', '', regex=True)\n",
    "\n",
    "codershq_merged_df = codershq_users_df.set_index('pk').combine_first(codershq_portfolio_df.set_index('user')).reset_index()\n",
    "\n"
   ]
  },
  {
   "cell_type": "code",
   "execution_count": null,
   "metadata": {},
   "outputs": [],
   "source": [
    "pluralsight = PluralSight()\n",
    "plural_all_skills = pluralsight.all_skills()\n",
    "plural_all_users = pluralsight.all_p_users()\n",
    "\n",
    "plural_all_skills_df = pd.DataFrame(plural_all_skills)\n",
    "plural_all_users_df = pd.DataFrame(plural_all_users)\n",
    "\n",
    "# merge the data frames on the \"userId\" and \"id\" columns\n",
    "plural_merged_df = pd.merge(plural_all_skills_df, plural_all_users_df, left_on='userId', right_on='id')\n",
    "\n",
    "# rename the merged column \"userId\" to \"id\"\n",
    "plural_merged_df = plural_merged_df.rename(columns={'userId': 'pluralId'})\n",
    "\n",
    "# drop rows with null values in \"pluralSightEmail\" column of codershq_users_df\n",
    "codershq_merged_df = codershq_merged_df.dropna(subset=[\"pluralSightEmail\"])\n",
    "\n",
    "# merge the data frames on \"email\" and \"pluralSightEmail\" columns\n",
    "merged_df = pd.merge(plural_merged_df, codershq_merged_df, left_on=\"email\", right_on=\"pluralSightEmail\")\n",
    "\n",
    "# print the merged data frame\n",
    "print(merged_df)\n",
    "\n",
    "\n",
    "merged_df.to_csv(\"data/all_data.csv\")"
   ]
  },
  {
   "cell_type": "code",
   "execution_count": null,
   "metadata": {},
   "outputs": [],
   "source": []
  },
  {
   "cell_type": "code",
   "execution_count": null,
   "metadata": {},
   "outputs": [],
   "source": []
  }
 ],
 "metadata": {
  "kernelspec": {
   "display_name": "venv",
   "language": "python",
   "name": "python3"
  },
  "language_info": {
   "codemirror_mode": {
    "name": "ipython",
    "version": 3
   },
   "file_extension": ".py",
   "mimetype": "text/x-python",
   "name": "python",
   "nbconvert_exporter": "python",
   "pygments_lexer": "ipython3",
   "version": "3.8.9"
  },
  "orig_nbformat": 4,
  "vscode": {
   "interpreter": {
    "hash": "cb430d4518ead99df8357846a7cb1335c3a9200bac5a34bbeb367fe6961cca5d"
   }
  }
 },
 "nbformat": 4,
 "nbformat_minor": 2
}
